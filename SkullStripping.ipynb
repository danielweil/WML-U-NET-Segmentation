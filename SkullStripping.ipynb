{
 "cells": [
  {
   "cell_type": "code",
   "execution_count": 1,
   "id": "hydraulic-efficiency",
   "metadata": {},
   "outputs": [],
   "source": [
    "#Load the dependancies\n",
    "from fastai.basics import *\n",
    "from fastai.callback.all import *\n",
    "from fastai.vision.all import *\n",
    "from fastai.medical.imaging import *\n",
    "from matplotlib import pyplot as plt\n",
    "import pydicom\n",
    "import itk\n",
    "from pathlib import Path\n",
    "import os"
   ]
  },
  {
   "cell_type": "code",
   "execution_count": 10,
   "id": "north-cross",
   "metadata": {},
   "outputs": [],
   "source": [
    "rootdir = \"C:/Users/Visagio/Desktop/dt/datasets/\"\n",
    "_, dirs, _ = next(os.walk(rootdir))"
   ]
  },
  {
   "cell_type": "code",
   "execution_count": 2,
   "id": "boxed-transport",
   "metadata": {},
   "outputs": [],
   "source": [
    "#Initializing ITK readers\n",
    "def initReaders():\n",
    "    reader = itk.ImageFileReader[itk.Image[itk.SS,3]].New()\n",
    "    atlasReader = itk.ImageFileReader[itk.Image[itk.SS,3]].New()\n",
    "    labelReader = itk.ImageFileReader[itk.Image[itk.UC,3]].New()\n",
    "    return reader, atlasReader, labelReader"
   ]
  },
  {
   "cell_type": "code",
   "execution_count": 8,
   "id": "individual-conspiracy",
   "metadata": {},
   "outputs": [],
   "source": [
    "#Set file names for readers\n",
    "def setReadersParameters(examNumber, reader, atlasReader, labelReader):\n",
    "    reader.SetFileName(f'C:/Users/Visagio/Desktop/dt/nifti-output/{examNumber}.nii.gz')\n",
    "    atlasReader.SetFileName('C:/Users/Visagio/Desktop/dt/atlasImage.mha')\n",
    "    labelReader.SetFileName('C:/Users/Visagio/Desktop/dt/atlasMask.mha')\n",
    "    reader.Update()\n",
    "    atlasReader.Update()\n",
    "    labelReader.Update()\n"
   ]
  },
  {
   "cell_type": "code",
   "execution_count": 4,
   "id": "respected-green",
   "metadata": {},
   "outputs": [],
   "source": [
    "# #Set file names for readers\n",
    "# reader.SetFileName('C:/Users/Visagio/Desktop/dt/nifti/6_AX_FLAIR_20161004105456_6000.nii')\n",
    "# atlasReader.SetFileName('C:/Users/Visagio/Desktop/dt/atlasImage.mha')\n",
    "# labelReader.SetFileName('C:/Users/Visagio/Desktop/dt/atlasMask.mha')\n",
    "# reader.Update()\n",
    "# atlasReader.Update()\n",
    "# labelReader.Update()"
   ]
  },
  {
   "cell_type": "code",
   "execution_count": 5,
   "id": "increased-strength",
   "metadata": {},
   "outputs": [],
   "source": [
    "#Create Skull Stripping filter\n",
    "def createSkullStrippingFilter(reader, atlasReader, labelReader):\n",
    "    filter = itk.StripTsImageFilter[itk.Image[itk.SS,3], itk.Image[itk.SS,3]].New()\n",
    "    filter.SetInput(reader.GetOutput())\n",
    "    filter.SetAtlasImage(atlasReader.GetOutput())\n",
    "    filter.SetAtlasBrainMask(labelReader.GetOutput())\n",
    "    filter.Update()\n",
    "    return filter"
   ]
  },
  {
   "cell_type": "code",
   "execution_count": 6,
   "id": "usual-playing",
   "metadata": {},
   "outputs": [],
   "source": [
    "#Creating Mask Filter\n",
    "def createMaskFilter(reader, filter):\n",
    "    maskFilter = itk.MaskImageFilter[itk.Image[itk.SS,3], itk.Image[itk.UC,3], itk.Image[itk.SS,3]].New()\n",
    "    maskFilter.SetInput1(reader.GetOutput())\n",
    "    maskFilter.SetInput2(filter.GetOutput())\n",
    "    maskFilter.Update()\n",
    "    maskFilter.GetOutput()\n",
    "    return maskFilter"
   ]
  },
  {
   "cell_type": "code",
   "execution_count": 14,
   "id": "nominated-conditions",
   "metadata": {},
   "outputs": [],
   "source": [
    "def writeMaskAndMaskedImageToFiles(examNumber, filter, maskFilter):\n",
    "    Path(f\"C:/Users/Visagio/Desktop/dt/skullstripped/{examNumber}\").mkdir(exist_ok=True)\n",
    "    #Creating MaskWriter\n",
    "    maskWriter = itk.ImageFileWriter[itk.Image[itk.UC,3]].New()\n",
    "    maskWriter.SetInput(filter.GetOutput())\n",
    "    maskWriter.SetFileName(f'C:/Users/Visagio/Desktop/dt/skullstripped/{examNumber}/mask.nii.gz')\n",
    "\n",
    "    #Creating ImageWriter\n",
    "    imageWriter = itk.ImageFileWriter[itk.Image[itk.SS,3]].New()\n",
    "    imageWriter.SetInput(maskFilter.GetOutput())\n",
    "    imageWriter.SetFileName(f'C:/Users/Visagio/Desktop/dt/skullstripped/{examNumber}/masked.nii.gz')\n",
    "\n",
    "    maskWriter.Update()\n",
    "    imageWriter.Update()"
   ]
  },
  {
   "cell_type": "code",
   "execution_count": 15,
   "id": "marine-graduate",
   "metadata": {},
   "outputs": [],
   "source": [
    "for examNumber in dirs:\n",
    "    reader, atlasReader, labelReader = initReaders()\n",
    "    setReadersParameters(examNumber, reader, atlasReader, labelReader)\n",
    "    filter = createSkullStrippingFilter(reader, atlasReader, labelReader)\n",
    "    maskFilter = createMaskFilter(reader, filter)\n",
    "    writeMaskAndMaskedImageToFiles(examNumber, filter, maskFilter)"
   ]
  }
 ],
 "metadata": {
  "kernelspec": {
   "display_name": "Python 3",
   "language": "python",
   "name": "python3"
  },
  "language_info": {
   "codemirror_mode": {
    "name": "ipython",
    "version": 3
   },
   "file_extension": ".py",
   "mimetype": "text/x-python",
   "name": "python",
   "nbconvert_exporter": "python",
   "pygments_lexer": "ipython3",
   "version": "3.9.2"
  }
 },
 "nbformat": 4,
 "nbformat_minor": 5
}
