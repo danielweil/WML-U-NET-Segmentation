{
  "nbformat": 4,
  "nbformat_minor": 0,
  "metadata": {
    "accelerator": "GPU",
    "colab": {
      "name": "Latest com mistura de treino e validação.ipynb",
      "provenance": [],
      "collapsed_sections": [],
      "machine_shape": "hm"
    },
    "kernelspec": {
      "display_name": "Python 3",
      "name": "python3"
    }
  },
  "cells": [
    {
      "cell_type": "code",
      "metadata": {
        "colab": {
          "base_uri": "https://localhost:8080/"
        },
        "id": "accepted-subcommittee",
        "outputId": "0bebe25a-8ca6-4445-f3f8-021bb6d03e8c"
      },
      "source": [
        "from google.colab import drive\n",
        "drive.mount('/content/gdrive')"
      ],
      "execution_count": null,
      "outputs": [
        {
          "output_type": "stream",
          "text": [
            "Mounted at /content/gdrive\n"
          ],
          "name": "stdout"
        }
      ]
    },
    {
      "cell_type": "code",
      "metadata": {
        "id": "ITcor4rU17wi"
      },
      "source": [
        "import tensorflow as tf\n",
        "print(\"Num GPUs Available: \", len(tf.config.list_physical_devices('GPU')))"
      ],
      "execution_count": 7,
      "outputs": []
    },
    {
      "cell_type": "code",
      "metadata": {
        "id": "juLG29x5IvEV"
      },
      "source": [
        ""
      ],
      "execution_count": null,
      "outputs": []
    },
    {
      "cell_type": "code",
      "metadata": {
        "id": "1hmCIevYlpUv"
      },
      "source": [
        "!pip install hickle\n",
        "!pip install segyio\n",
        "!pip install -q keras"
      ],
      "execution_count": 6,
      "outputs": []
    },
    {
      "cell_type": "code",
      "metadata": {
        "id": "zshGnnOMFVdx"
      },
      "source": [
        "import os\n",
        "import hickle\n",
        "import json\n",
        "import random\n",
        "import shutil\n",
        "import segyio\n",
        "import numpy as np\n",
        "import matplotlib.pyplot as plt\n",
        "from matplotlib.colors import LinearSegmentedColormap\n",
        "from sklearn.feature_extraction import image\n",
        "from keras import backend as K\n",
        "from keras.utils.np_utils import to_categorical\n",
        "import keras\n",
        "import numpy as np\n",
        "from skimage.measure import regionprops, label\n",
        "import matplotlib.patches as mpatches\n",
        "from sklearn.utils import shuffle as shu\n",
        "from keras import metrics\n",
        "from keras.models import *\n",
        "from keras.layers import *\n",
        "from keras.optimizers import *\n",
        "from keras.callbacks import ModelCheckpoint, LearningRateScheduler\n",
        "from tensorflow.keras.preprocessing.image import ImageDataGenerator\n",
        "from keras.callbacks import EarlyStopping\n",
        "from keras.regularizers import l2\n",
        "from keras.utils import conv_utils\n",
        "from keras.utils.data_utils import get_file\n",
        "import random as rand\n",
        "from keras.layers import LSTM\n",
        "from keras import utils as np_utils\n",
        "from skimage.util.shape import view_as_windows\n",
        "from sklearn.utils import shuffle\n",
        "from skimage import exposure\n",
        "from sklearn.metrics import roc_curve, auc, multilabel_confusion_matrix\n",
        "from sklearn.metrics import roc_auc_score\n",
        "from sklearn.metrics import precision_recall_curve\n",
        "from keras.layers.noise import GaussianNoise\n",
        "from keras.layers.advanced_activations import LeakyReLU\n",
        "from keras.initializers import TruncatedNormal\n",
        "from keras.utils.generic_utils import Progbar\n",
        "# from keras.utils import multi_gpu_model\n",
        "from sklearn.metrics import average_precision_score\n",
        "from tensorflow.python.ops import control_flow_ops\n",
        "import tensorflow as tf\n",
        "\n",
        "# from keras.layers import CuDNNLSTM\n",
        "from sklearn.metrics import precision_score, recall_score, f1_score, confusion_matrix, classification_report, accuracy_score\n",
        "K.set_image_data_format('channels_last')\n",
        "os.environ[\"CUDA_VISIBLE_DEVICES\"]=\"1\""
      ],
      "execution_count": null,
      "outputs": []
    },
    {
      "cell_type": "code",
      "metadata": {
        "id": "together-wyoming"
      },
      "source": [
        "def buildPatches(brain, wmlMask, mode='train'):\n",
        "\n",
        "    if (mode=='train'):\n",
        "        \n",
        "        patches = view_as_windows(brain, (64,64), step=(16,32))\n",
        "        labelPatch = view_as_windows(wmlMask, (64,64), step=(16,32))\n",
        "        patchesBrain = []\n",
        "        patchesWml = []\n",
        "        \n",
        "        for i in range(patches.shape[0]):\n",
        "            \n",
        "            for j in range(patches.shape[1]):\n",
        "                    if(labelPatch[i][j].any()):\n",
        "                        patchesBrain.append(patches[i][j])\n",
        "                        patchesWml.append(labelPatch[i][j])\n",
        "            \n",
        " \n",
        "        return np.array(patchesBrain), np.array(patchesWml)\n",
        "\n",
        "    else:\n",
        "        # Extract patches.\n",
        "        #Validation and Test doesnt perform trace balancing step.\n",
        "        patches = view_as_windows(brain, (64,64), step=(16,32))\n",
        "        labelPatch = view_as_windows(wmlMask, (64,64), step=(16,32))\n",
        "        patchesBrain = []\n",
        "        patchesWml = []\n",
        "        \n",
        "        for i in range(patches.shape[0]):\n",
        "            \n",
        "            for j in range(patches.shape[1]):\n",
        "                    patchesBrain.append(patches[i][j])\n",
        "                    patchesWml.append(labelPatch[i][j])\n",
        "                    \n",
        "        return np.array(patchesBrain), np.array(patchesWml)\n"
      ],
      "execution_count": null,
      "outputs": []
    },
    {
      "cell_type": "code",
      "metadata": {
        "id": "JPhLcAdy2fz6"
      },
      "source": [
        "# trainSamplesInline = os.listdir('../content/gdrive/MyDrive/tcc/numpy/train/')\n",
        "# validationSamplesInline = os.listdir('../content/gdrive/MyDrive/tcc/numpy/validation/')\n",
        "# testSamplesInline = os.listdir('../content/gdrive/MyDrive/tcc/numpy/test/')\n",
        "\n",
        "patchesTrainInline = []\n",
        "patchesValidationInline = []\n",
        "patchesTestInline = []\n",
        "\n",
        "labelsTrainInline = []\n",
        "labelsValidationInline = []\n",
        "labelsTestInline = []"
      ],
      "execution_count": null,
      "outputs": []
    },
    {
      "cell_type": "code",
      "metadata": {
        "id": "4QZObWKiEL_5"
      },
      "source": [
        "samplesInline = os.listdir('../content/gdrive/MyDrive/tcc/numpy/dados/')\n",
        "labelsInline = os.listdir('../content/gdrive/MyDrive/tcc/numpy/label/')\n",
        "\n",
        "inlineSamples = []\n",
        "inlineLabels = []"
      ],
      "execution_count": null,
      "outputs": []
    },
    {
      "cell_type": "code",
      "metadata": {
        "id": "qI-ke5cMEejb"
      },
      "source": [
        "for file in samplesInline:\n",
        "    brain = np.load(f'../content/gdrive/MyDrive/tcc/numpy/dados/{file}')\n",
        "    wmlMask = np.load(f'../content/gdrive/MyDrive/tcc/numpy/label/{file}')\n",
        "    \n",
        "    inlineSamples.append(brain)\n",
        "    inlineLabels.append(wmlMask)"
      ],
      "execution_count": null,
      "outputs": []
    },
    {
      "cell_type": "code",
      "metadata": {
        "id": "BqIERSprErXR"
      },
      "source": [
        "from sklearn.model_selection import train_test_split\n",
        "train_ratio = 0.82\n",
        "validation_ratio = 0.10\n",
        "test_ratio = 0.08\n",
        "\n",
        "trainPatchNumpy, testPatchNumpy, trainLabelNumpy, testLabelNumpy = train_test_split(inlineSamples, inlineLabels, test_size=1 - train_ratio, random_state=11)\n",
        "\n",
        "validationPatchNumpy, testPatchNumpy, validationLabelNumpy, testLabelNumpy = train_test_split(testPatchNumpy, testLabelNumpy, test_size=test_ratio/(test_ratio + validation_ratio), random_state=11) "
      ],
      "execution_count": null,
      "outputs": []
    },
    {
      "cell_type": "code",
      "metadata": {
        "id": "5gjSsiYjS58y"
      },
      "source": [
        "for i in range(len(trainPatchNumpy)):\n",
        "  patchesBrainTrain, labelsTrain = buildPatches(trainPatchNumpy[i], trainLabelNumpy[i])\n",
        "  patchesTrainInline.append(patchesBrainTrain)\n",
        "  labelsTrainInline.append(labelsTrain)"
      ],
      "execution_count": null,
      "outputs": []
    },
    {
      "cell_type": "code",
      "metadata": {
        "id": "twAZCjDpT-GT"
      },
      "source": [
        "for i in range(len(validationPatchNumpy)):\n",
        "  patchesBrainTrain, labelsTrain = buildPatches(validationPatchNumpy[i], validationLabelNumpy[i], mode='validation')\n",
        "  patchesValidationInline.append(patchesBrainTrain)\n",
        "  labelsValidationInline.append(labelsTrain)"
      ],
      "execution_count": null,
      "outputs": []
    },
    {
      "cell_type": "code",
      "metadata": {
        "id": "KP4cJBGtUIb0"
      },
      "source": [
        "for i in range(len(testPatchNumpy)):\n",
        "  patchesBrainTrain, labelsTrain = buildPatches(testPatchNumpy[i], testLabelNumpy[i], mode='test')\n",
        "  patchesTestInline.append(patchesBrainTrain)\n",
        "  labelsTestInline.append(labelsTrain)"
      ],
      "execution_count": null,
      "outputs": []
    },
    {
      "cell_type": "code",
      "metadata": {
        "id": "l7Uy0Lx2EIf8"
      },
      "source": [
        "# for file in trainSamplesInline:\n",
        "#     brain = np.load(f'../content/gdrive/MyDrive/tcc/numpy/train/{file}')\n",
        "#     wmlMask = np.load(f'../content/gdrive/MyDrive/tcc/numpy/label/{file}')\n",
        "    \n",
        "\n",
        "#     patchesBrainTrain, labelsTrain = buildPatches(brain, wmlMask)\n",
        "\n",
        "#     patchesTrainInline.append(patchesBrainTrain)\n",
        "#     labelsTrainInline.append(labelsTrain)"
      ],
      "execution_count": null,
      "outputs": []
    },
    {
      "cell_type": "code",
      "metadata": {
        "id": "zlw91PK62fz8"
      },
      "source": [
        "# for file in trainSamplesInline:\n",
        "#     brain = np.load(f'../content/gdrive/MyDrive/tcc/numpy/train/{file}')\n",
        "#     wmlMask = np.load(f'../content/gdrive/MyDrive/tcc/numpy/label/{file}')\n",
        "    \n",
        "\n",
        "#     patchesBrainTrain, labelsTrain = buildPatches(brain, wmlMask)\n",
        "\n",
        "#     patchesTrainInline.append(patchesBrainTrain)\n",
        "#     labelsTrainInline.append(labelsTrain)"
      ],
      "execution_count": null,
      "outputs": []
    },
    {
      "cell_type": "code",
      "metadata": {
        "id": "22UscWOP2fz8"
      },
      "source": [
        "# for file in validationSamplesInline:\n",
        "#     brain = np.load(f'../content/gdrive/MyDrive/tcc/numpy/validation/{file}')\n",
        "#     wmlMask = np.load(f'../content/gdrive/MyDrive/tcc/numpy/label/{file}')\n",
        "    \n",
        "\n",
        "#     patchesBrainValidation, labelsValidation = buildPatches(brain, wmlMask, mode=\"validation\")\n",
        "\n",
        "#     patchesValidationInline.append(patchesBrainValidation)\n",
        "#     labelsValidationInline.append(labelsValidation)"
      ],
      "execution_count": null,
      "outputs": []
    },
    {
      "cell_type": "code",
      "metadata": {
        "id": "4UsVTBYn2fz8"
      },
      "source": [
        "# for file in testSamplesInline:\n",
        "#     brain = np.load(f'../content/gdrive/MyDrive/tcc/numpy/test/{file}')\n",
        "#     wmlMask = np.load(f'../content/gdrive/MyDrive/tcc/numpy/label/{file}')\n",
        "    \n",
        "\n",
        "#     patchesBrainTest, labelsTest = buildPatches(brain, wmlMask, mode=\"test\")\n",
        "\n",
        "#     patchesTestInline.append(patchesBrainTest)\n",
        "#     labelsTestInline.append(labelsTest)"
      ],
      "execution_count": null,
      "outputs": []
    },
    {
      "cell_type": "code",
      "metadata": {
        "id": "proved-arthur"
      },
      "source": [
        "patchesTrainInline = np.concatenate([i for i in patchesTrainInline if i.size > 0])\n",
        "labelsTrainInline = np.concatenate([i for i in labelsTrainInline if i.size > 0])"
      ],
      "execution_count": null,
      "outputs": []
    },
    {
      "cell_type": "code",
      "metadata": {
        "id": "textile-merit"
      },
      "source": [
        "patchesValidationInline = np.concatenate([i for i in patchesValidationInline])\n",
        "labelsValidationInline = np.concatenate([i for i in labelsValidationInline])"
      ],
      "execution_count": null,
      "outputs": []
    },
    {
      "cell_type": "code",
      "metadata": {
        "id": "enabling-louisiana"
      },
      "source": [
        "patchesTestInline = np.concatenate([i for i in patchesTestInline])\n",
        "labelsTestInline = np.concatenate([i for i in labelsTestInline])"
      ],
      "execution_count": null,
      "outputs": []
    },
    {
      "cell_type": "code",
      "metadata": {
        "id": "olive-biography"
      },
      "source": [
        "def unet(pretrained_weights = None,input_size = (64,64, 1)):\n",
        "    inputs = Input(input_size)\n",
        "    conv1 = Conv2D(32, 3, activation = 'relu', padding = 'same', kernel_initializer = 'he_normal')(inputs)\n",
        "    conv1 = Conv2D(32, 3, activation = 'relu', padding = 'same', kernel_initializer = 'he_normal')(conv1)\n",
        "    pool1 = MaxPooling2D(pool_size=(2, 2))(conv1)\n",
        "    conv2 = Conv2D(64, 3, activation = 'relu', padding = 'same', kernel_initializer = 'he_normal')(pool1)\n",
        "    conv2 = Conv2D(64, 3, activation = 'relu', padding = 'same', kernel_initializer = 'he_normal')(conv2)\n",
        "    pool2 = MaxPooling2D(pool_size=(2, 2))(conv2)\n",
        "    conv3 = Conv2D(128, 3, activation = 'relu', padding = 'same', kernel_initializer = 'he_normal')(pool2)\n",
        "    conv3 = Conv2D(128, 3, activation = 'relu', padding = 'same', kernel_initializer = 'he_normal')(conv3)\n",
        "    pool3 = MaxPooling2D(pool_size=(2, 2))(conv3)\n",
        "    conv4 = Conv2D(256, 3, activation = 'relu', padding = 'same', kernel_initializer = 'he_normal')(pool3)\n",
        "    conv4 = Conv2D(256, 3, activation = 'relu', padding = 'same', kernel_initializer = 'he_normal')(conv4)\n",
        "    drop4 = Dropout(0.5)(conv4)\n",
        "    pool4 = MaxPooling2D(pool_size=(2, 2))(drop4)\n",
        "\n",
        "    conv5 = Conv2D(512, 3, activation = 'relu', padding = 'same', kernel_initializer = 'he_normal')(pool4)\n",
        "    conv5 = Conv2D(512, 3, activation = 'relu', padding = 'same', kernel_initializer = 'he_normal')(conv5)\n",
        "    drop5 = Dropout(0.5)(conv5)\n",
        "\n",
        "    up6 = Conv2D(256, 2, activation = 'relu', padding = 'same', kernel_initializer = 'he_normal')(UpSampling2D(size = (2,2))(drop5))\n",
        "    merge6 = concatenate([drop4,up6], axis = 3)\n",
        "    conv6 = Conv2D(256, 3, activation = 'relu', padding = 'same', kernel_initializer = 'he_normal')(merge6)\n",
        "    conv6 = Conv2D(256, 3, activation = 'relu', padding = 'same', kernel_initializer = 'he_normal')(conv6)\n",
        "\n",
        "    up7 = Conv2D(128, 2, activation = 'relu', padding = 'same', kernel_initializer = 'he_normal')(UpSampling2D(size = (2,2))(conv6))\n",
        "    merge7 = concatenate([conv3,up7], axis = 3)\n",
        "    conv7 = Conv2D(128, 3, activation = 'relu', padding = 'same', kernel_initializer = 'he_normal')(merge7)\n",
        "    conv7 = Conv2D(128, 3, activation = 'relu', padding = 'same', kernel_initializer = 'he_normal')(conv7)\n",
        "\n",
        "    up8 = Conv2D(64, 2, activation = 'relu', padding = 'same', kernel_initializer = 'he_normal')(UpSampling2D(size = (2,2))(conv7))\n",
        "    merge8 = concatenate([conv2,up8], axis = 3)\n",
        "    conv8 = Conv2D(64, 3, activation = 'relu', padding = 'same', kernel_initializer = 'he_normal')(merge8)\n",
        "    conv8 = Conv2D(64, 3, activation = 'relu', padding = 'same', kernel_initializer = 'he_normal')(conv8)\n",
        "\n",
        "    up9 = Conv2D(32, 2, activation = 'relu', padding = 'same', kernel_initializer = 'he_normal')(UpSampling2D(size = (2,2))(conv8))\n",
        "    merge9 = concatenate([conv1,up9], axis = 3)\n",
        "    conv9 = Conv2D(32, 3, activation = 'relu', padding = 'same', kernel_initializer = 'he_normal')(merge9)\n",
        "    conv9 = Conv2D(32, 3, activation = 'relu', padding = 'same', kernel_initializer = 'he_normal')(conv9)\n",
        "    conv9 = Conv2D(2, 3, activation = 'relu', padding = 'same', kernel_initializer = 'he_normal')(conv9)\n",
        "    conv10 = Conv2D(1, 1, activation = 'sigmoid')(conv9)\n",
        "\n",
        "    model = Model(inputs = [inputs], outputs = conv10)\n",
        "\n",
        "\n",
        "\n",
        "    return model"
      ],
      "execution_count": null,
      "outputs": []
    },
    {
      "cell_type": "code",
      "metadata": {
        "id": "considerable-thunder"
      },
      "source": [
        "early_stop = EarlyStopping(monitor='val_recall_m', mode='max', patience=6)\n",
        "batch_size = 32"
      ],
      "execution_count": null,
      "outputs": []
    },
    {
      "cell_type": "code",
      "metadata": {
        "id": "2np23DoMjYAX"
      },
      "source": [
        "checkpoint_path = \"../content/gdrive/MyDrive/tcc/checkpoints/cp-{epoch:04d}.ckpt\"\n",
        "checkpoint_dir = os.path.dirname(checkpoint_path)\n",
        "\n",
        "# Create a callback that saves the model's weights every 5 epochs\n",
        "cp_callback = tf.keras.callbacks.ModelCheckpoint(\n",
        "    filepath=checkpoint_path, \n",
        "    verbose=1, \n",
        "    save_weights_only=True,\n",
        "    save_freq=13196)"
      ],
      "execution_count": null,
      "outputs": []
    },
    {
      "cell_type": "code",
      "metadata": {
        "colab": {
          "base_uri": "https://localhost:8080/"
        },
        "id": "frJBagXcj5Fy",
        "outputId": "09ef9719-3c4c-4493-fa9b-5b67f7e91626"
      },
      "source": [
        "model = unet()\n",
        "\n",
        "latest = tf.train.latest_checkpoint(checkpoint_dir)\n",
        "epoch = 0\n",
        "if(latest):\n",
        "  model.load_weights(latest)\n",
        "  epoch = int(latest.split('-')[1].strip('0').strip(\".ckpt\"))\n",
        "  print(epoch)"
      ],
      "execution_count": null,
      "outputs": [
        {
          "output_type": "stream",
          "text": [
            "41\n"
          ],
          "name": "stdout"
        }
      ]
    },
    {
      "cell_type": "code",
      "metadata": {
        "id": "VIkFTZKwwUS3"
      },
      "source": [
        "def recall_m(y_true, y_pred):\n",
        "        true_positives = K.sum(K.round(K.clip(y_true * y_pred, 0, 1)))\n",
        "        possible_positives = K.sum(K.round(K.clip(y_true, 0, 1)))\n",
        "        recall = true_positives / (possible_positives + K.epsilon())\n",
        "        return recall\n",
        "\n",
        "def precision_m(y_true, y_pred):\n",
        "        true_positives = K.sum(K.round(K.clip(y_true * y_pred, 0, 1)))\n",
        "        predicted_positives = K.sum(K.round(K.clip(y_pred, 0, 1)))\n",
        "        precision = true_positives / (predicted_positives + K.epsilon())\n",
        "        return precision\n",
        "    \n",
        "def specificity_m(y_true, y_pred):\n",
        "    \"\"\"\n",
        "    param:\n",
        "    y_pred - Predicted labels\n",
        "    y_true - True labels \n",
        "    Returns:\n",
        "    Specificity score\n",
        "    \"\"\"\n",
        "    neg_y_true = 1 - y_true\n",
        "    neg_y_pred = 1 - y_pred\n",
        "    fp = K.sum(neg_y_true * y_pred)\n",
        "    tn = K.sum(neg_y_true * neg_y_pred)\n",
        "    specificity = tn / (tn + fp + K.epsilon())\n",
        "    return specificity \n",
        "\n",
        "def f1Score(y_true, y_pred):\n",
        "\n",
        "    p = precision_m(y_true, y_pred)\n",
        "    r = recall_m(y_true, y_pred)\n",
        "\n",
        "    f1 = 2*p*r / (p+r+K.epsilon())\n",
        "\n",
        "    return f1\n",
        "    \n",
        "def auc_roc(y_true, y_pred):\n",
        "    value, update_op = tf.contrib.metrics.streaming_auc(\n",
        "        y_pred, y_true, curve='ROC', name='auc_roc')\n",
        "    auc_roc.stream_vars = [i for i in tf.local_variables() if i.name.split('/')[0] == 'auc_roc']\n",
        "    return control_flow_ops.with_dependencies([update_op], value)"
      ],
      "execution_count": null,
      "outputs": []
    },
    {
      "cell_type": "code",
      "metadata": {
        "id": "sticky-oasis"
      },
      "source": [
        "patchesTrainInline = patchesTrainInline.reshape( patchesTrainInline.shape[0], 64, 64, 1)  / patchesTrainInline.max()\n",
        "labelsTrainInline = labelsTrainInline.reshape( labelsTrainInline.shape[0], 64, 64, 1)\n",
        "patchesTrainInline = patchesTrainInline.astype( 'float64' )\n",
        "\n",
        "patchesValidationInline = patchesValidationInline.reshape(patchesValidationInline.shape[0], 64, 64, 1) / patchesValidationInline.max()\n",
        "labelsValidationInline = labelsValidationInline.reshape(labelsValidationInline.shape[0], 64, 64, 1)\n",
        "patchesValidationInline = patchesValidationInline.astype( 'float64' )\n",
        "\n",
        "# # ### Test\n",
        "patchesTestInline = patchesTestInline.reshape(patchesTestInline.shape[0], 64, 64, 1) / patchesTestInline.max()\n",
        "labelsTestInline = labelsTestInline.reshape(labelsTestInline.shape[0], 64, 64, 1)\n",
        "patchesTestInline = patchesTestInline.astype( 'float64' )"
      ],
      "execution_count": null,
      "outputs": []
    },
    {
      "cell_type": "code",
      "metadata": {
        "id": "Z2KuuOcbShnH"
      },
      "source": [
        "import gc\n",
        "from tensorflow.keras import backend as k\n",
        "from tensorflow.keras.callbacks import Callback\n",
        "\n",
        "\n",
        "class ClearMemory(Callback):\n",
        "    def on_epoch_end(self, epoch, logs=None):\n",
        "        gc.collect()\n",
        "        k.clear_session()"
      ],
      "execution_count": null,
      "outputs": []
    },
    {
      "cell_type": "code",
      "metadata": {
        "id": "sRO9w0kMuaNd"
      },
      "source": [
        "# from sklearn.utils import class_weight\n",
        "\n",
        "# weights = class_weight.compute_class_weight('balanced',\n",
        "#                                             np.unique(np.ravel(labelsTrainInline,order='C')),\n",
        "#                                             np.ravel(labelsTrainInline,order='C'))\n",
        "\n",
        "# labelsTrainInline = to_categorical(labelsTrainInline)\n",
        "# labelsValidationInline = to_categorical(labelsValidationInline)"
      ],
      "execution_count": null,
      "outputs": []
    },
    {
      "cell_type": "code",
      "metadata": {
        "id": "KCmtka5Zjbj0"
      },
      "source": [
        "# def weighted_categorical_crossentropy(weights):\n",
        "#         \"\"\"\n",
        "#         A weighted version of keras.objectives.categorical_crossentropy\n",
        "#         Variables:\n",
        "#             weights: numpy array of shape (C,) where C is the number of classes\n",
        "#         Usage:\n",
        "#             weights = np.array([0.5,2,10]) # Class one at 0.5, class 2 twice the normal weights, class 3 10x.\n",
        "#             loss = weighted_categorical_crossentropy(weights)\n",
        "#             model.compile(loss=loss,optimizer='adam')\n",
        "#         \"\"\"\n",
        "#         weights = K.variable(weights)\n",
        "#         def loss(y_true, y_pred):\n",
        "#             # scale predictions so that the class probas of each sample sum to 1\n",
        "#             y_pred /= K.sum(y_pred, axis=-1, keepdims=True)\n",
        "#             # clip to prevent NaN's and Inf's\n",
        "#             y_pred = K.clip(y_pred, K.epsilon(), 1 - K.epsilon())\n",
        "#             loss = y_true * K.log(y_pred) + (1-y_true) * K.log(1-y_pred)\n",
        "#             loss = loss * weights \n",
        "#             loss = - K.mean(loss, -1)\n",
        "#             return loss\n",
        "#         return loss\n",
        "# \n",
        "# loss_function = weighted_categorical_crossentropy(weights)"
      ],
      "execution_count": null,
      "outputs": []
    },
    {
      "cell_type": "code",
      "metadata": {
        "id": "i8xlU934Bndf",
        "colab": {
          "base_uri": "https://localhost:8080/"
        },
        "outputId": "e8a4d440-9764-4edd-b77d-f8cd5f963a17"
      },
      "source": [
        "param = dict(\n",
        "  rotation_range=30,\n",
        "\t# zoom_range=0.15,\n",
        "\t# width_shift_range=0.2,\n",
        "\t# height_shift_range=0.2,\n",
        "\t# shear_range=0.15,\n",
        "\thorizontal_flip=True,\n",
        "  vertical_flip=True,\n",
        "  # featurewise_center=True,\n",
        "  # samplewise_center=True,\n",
        "  # featurewise_std_normalization=True,\n",
        "  # samplewise_std_normalization=True,\n",
        "  # zca_whitening=True,\n",
        "  data_format=\"channels_last\",\n",
        "  dtype=\"float64\",\n",
        ")\n",
        " \n",
        "generator = ImageDataGenerator(**param)\n",
        "\n",
        "gc.collect()\n",
        "\n",
        "input = generator.flow(patchesTrainInline, batch_size=batch_size*2, seed=2)\n",
        "mask = generator.flow(labelsTrainInline, batch_size=batch_size*2, seed=2)\n",
        "\n",
        "validation_input = generator.flow(labelsTrainInline, batch_size=batch_size, seed=2)\n",
        "validation_mask = generator.flow(labelsValidationInline, batch_size=batch_size, seed=2)\n",
        "\n",
        "del patchesTrainInline\n",
        "del patchesValidationInline\n",
        "del labelsTrainInline\n",
        "del labelsValidationInline\n",
        "del generator\n",
        "gc.collect()\n",
        "\n",
        "train_generator = zip(input, mask)\n",
        "validation_generator = zip(validation_input, validation_mask)\n",
        "\n",
        "del input\n",
        "del mask\n",
        "del validation_input\n",
        "del validation_mask\n",
        "gc.collect()"
      ],
      "execution_count": null,
      "outputs": [
        {
          "output_type": "execute_result",
          "data": {
            "text/plain": [
              "0"
            ]
          },
          "metadata": {
            "tags": []
          },
          "execution_count": 35
        }
      ]
    },
    {
      "cell_type": "code",
      "metadata": {
        "id": "rX2kFgr-kAW4"
      },
      "source": [
        "# combinedPatches = np.concatenate((patchesTrainInline, patchesValidationInline), axis=0)\n",
        "# combinedLabels = np.concatenate((labelsTrainInline, labelsValidationInline), axis=0)\n",
        " \n",
        "# newTrainPatch, newValidationPatch, newTrainLabel, newValidationLabel = train_test_split(combinedPatches, combinedLabels, test_size=0.1, random_state=11)\n",
        "\n",
        "# input = generator.flow(newTrainPatch, batch_size=batch_size*2, seed=2)\n",
        "# mask = generator.flow(newTrainLabel, batch_size=batch_size*2, seed=2)\n",
        "\n",
        "# validation_input = generator.flow(newValidationPatch, batch_size=batch_size, seed=2)\n",
        "# validation_mask = generator.flow(newValidationLabel, batch_size=batch_size, seed=2)\n",
        "\n",
        "# combinedGenerator = zip(input, mask)\n",
        "# combinedValidationGenerator = zip(validation_input, validation_mask)"
      ],
      "execution_count": 1,
      "outputs": []
    },
    {
      "cell_type": "code",
      "metadata": {
        "id": "quality-skiing"
      },
      "source": [
        "model.compile(optimizer=keras.optimizers.Adadelta(), loss= \"binary_crossentropy\", metrics = ['accuracy', recall_m, specificity_m, precision_m, f1Score])\n",
        "model.summary()"
      ],
      "execution_count": 4,
      "outputs": []
    },
    {
      "cell_type": "code",
      "metadata": {
        "id": "KISVmKbHE0Kg"
      },
      "source": [
        "history = model.fit(x=train_generator, initial_epoch=epoch, verbose=1, batch_size=batch_size, steps_per_epoch=len(newTrainPatch) / (batch_size / 8), epochs=100, callbacks=[ClearMemory(), early_stop, cp_callback],\n",
        "                   validation_data=validation_generator, validation_steps=batch_size)"
      ],
      "execution_count": 3,
      "outputs": []
    },
    {
      "cell_type": "code",
      "metadata": {
        "id": "4BxSC7FflHL-"
      },
      "source": [
        "# history = model.fit(x=combinedPatches, y=combinedLabels, initial_epoch=epoch, verbose=1, batch_size=batch_size, steps_per_epoch=len(combinedPatches) / (batch_size / 8), epochs=100, callbacks=[ClearMemory(), early_stop, cp_callback],\n",
        "#                    validation_split=0.1)"
      ],
      "execution_count": null,
      "outputs": []
    },
    {
      "cell_type": "code",
      "metadata": {
        "id": "-Y_aZ1UTh_QG"
      },
      "source": [
        "results = model.evaluate(patchesTestInline, labelsTestInline, batch_size=32)\n",
        "results"
      ],
      "execution_count": 2,
      "outputs": []
    },
    {
      "cell_type": "code",
      "metadata": {
        "id": "ran1uOddjA1R"
      },
      "source": [
        "# preds_val = model.predict(patchesValidationInline, verbose=1)"
      ],
      "execution_count": null,
      "outputs": []
    },
    {
      "cell_type": "code",
      "metadata": {
        "id": "WULXbus3oIDn"
      },
      "source": [
        "def predictSection(input, step=(16,32)):\n",
        "    patches = view_as_windows(input, (64,64), step=(16,32))\n",
        "    vectorPatches = []\n",
        "    for i in range(patches.shape[0]):\n",
        "        for j in range(patches.shape[1]):\n",
        "                    vectorPatches.append(patches[i][j])\n",
        "                \n",
        "    vectorPatches = np.array(vectorPatches)\n",
        "    vectorPatches = vectorPatches.reshape( vectorPatches.shape[0], 64, 64, 1)  / vectorPatches.max()\n",
        "    section = reconstruct_from_patches_2d(vectorPatches, (384, 384, 1), stride=(16, 32))  \n",
        "    \n",
        "    prediction = model.predict(vectorPatches, verbose=1)\n",
        "    prediction[prediction > 0.5] = 1\n",
        "    prediction[prediction <= 0.5] = 0\n",
        "    # predictionSector = reconstruct_from_patches_2d(np.argmax(prediction, axis=-1), (384, 384), stride=(16, 32))\n",
        "    predictionSector = reconstruct_from_patches_2d(prediction, (384, 384, 1), stride=(16, 32))\n",
        "    \n",
        "    \n",
        "    return input, predictionSector, prediction"
      ],
      "execution_count": null,
      "outputs": []
    },
    {
      "cell_type": "code",
      "metadata": {
        "id": "ifmpH_p_kUxU"
      },
      "source": [
        "def reconstruct_from_patches_2d(patches,image_shape,stride):\n",
        "  img = np.zeros(image_shape,dtype=np.float64)\n",
        "  img_repeticoes = np.zeros(image_shape)\n",
        "  patch_shape = patches.shape[1:3]\n",
        "  i=0\n",
        "  for x in range(0,image_shape[0],stride[0]):\n",
        "    for y in range(0,image_shape[1],stride[1]):\n",
        "      if image_shape[0] >= x+patch_shape[0] and image_shape[1]>=y+patch_shape[1] :\n",
        "        img[x:x+patch_shape[0],y:y+patch_shape[1]]+=patches[i]\n",
        "        img_repeticoes[x:x+patch_shape[0],y:y+patch_shape[1]]+=np.ones(patches.shape[1:])\n",
        "        i+=1\n",
        "  img = img//img_repeticoes\n",
        "  return img"
      ],
      "execution_count": null,
      "outputs": []
    },
    {
      "cell_type": "code",
      "metadata": {
        "id": "lZaBDWoyEGG2"
      },
      "source": [
        "for i in range(len(testLabelNumpy)):\n",
        "  patch = testPatchNumpy[i]\n",
        "  mask = testLabelNumpy[i]\n",
        "  plt.figure(figsize=(10,10))\n",
        "  plt.subplot(2, 2, 1)\n",
        "  plt.imshow(patch, cmap=\"gray\")\n",
        "  plt.imshow(mask, cmap='jet', alpha=0.5)\n",
        "  plt.axis('off')\n",
        "\n",
        "  section, prediction, pred  = predictSection(patch)\n",
        "  plt.subplot(2, 2, 2)\n",
        "  plt.imshow(section.reshape(384, 384), cmap=\"gray\")\n",
        "  plt.imshow(prediction.reshape(384, 384), cmap=\"jet\", alpha=0.5)\n",
        "  plt.axis('off')\n",
        "  plt.show()"
      ],
      "execution_count": 5,
      "outputs": []
    }
  ]
}