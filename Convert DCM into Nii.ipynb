{
 "cells": [
  {
   "cell_type": "code",
   "execution_count": 25,
   "id": "alpine-peace",
   "metadata": {},
   "outputs": [],
   "source": [
    "from dicom2nifti.convert_dicom import dicom_series_to_nifti\n",
    "from pathlib import Path\n",
    "import os"
   ]
  },
  {
   "cell_type": "code",
   "execution_count": 26,
   "id": "global-business",
   "metadata": {},
   "outputs": [],
   "source": [
    "rootdir = \"C:/Users/Visagio/Desktop/dt/datasets/\"\n",
    "\n",
    "_, dirs, _ = next(os.walk(rootdir))\n",
    "dcm_array = list(map(lambda folderNum: rootdir + f\"{folderNum}\", dirs))"
   ]
  },
  {
   "cell_type": "code",
   "execution_count": 27,
   "id": "reasonable-scottish",
   "metadata": {},
   "outputs": [],
   "source": [
    "index = 0\n",
    "for exam in dcm_array:\n",
    "    Path(\"C:/Users/Visagio/Desktop/dt/nifti-output\").mkdir(exist_ok=True)\n",
    "    dicom_series_to_nifti(exam, f\"C:/Users/Visagio/Desktop/dt/nifti-output/{dirs[index]}.nii.gz\")\n",
    "    index += 1"
   ]
  }
 ],
 "metadata": {
  "kernelspec": {
   "display_name": "Python 3",
   "language": "python",
   "name": "python3"
  },
  "language_info": {
   "codemirror_mode": {
    "name": "ipython",
    "version": 3
   },
   "file_extension": ".py",
   "mimetype": "text/x-python",
   "name": "python",
   "nbconvert_exporter": "python",
   "pygments_lexer": "ipython3",
   "version": "3.9.2"
  }
 },
 "nbformat": 4,
 "nbformat_minor": 5
}
