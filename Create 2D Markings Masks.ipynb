{
 "cells": [
  {
   "cell_type": "code",
   "execution_count": 15,
   "id": "correct-literature",
   "metadata": {},
   "outputs": [],
   "source": [
    "%matplotlib inline  \n",
    "from io import StringIO\n",
    "from PIL import Image, ImageDraw \n",
    "from pylab import *\n",
    "from pathlib import Path\n",
    "\n",
    "import hickle\n",
    "import pydicom\n",
    "import matplotlib.pyplot as plt\n",
    "import os\n",
    "import numpy as np"
   ]
  },
  {
   "cell_type": "code",
   "execution_count": 4,
   "id": "rough-class",
   "metadata": {},
   "outputs": [],
   "source": [
    "def create_masks(markings, slice_number):\n",
    "    indice = 0\n",
    "    width = 428\n",
    "    height = 512\n",
    "    img = Image.new('L', (width, height), 0)\n",
    "    mask = np.array(img)\n",
    "\n",
    "\n",
    "    while ((indice + 1) < len(markings[slice_number])): \n",
    "\n",
    "        list_vertex = []\n",
    "        list_vertex.append(markings[slice_number][indice])\n",
    "        first_vertex = list_vertex[0]\n",
    "\n",
    "        for i in range(indice + 1, len(markings[slice_number])):\n",
    "\n",
    "\n",
    "            myItem = markings[slice_number][i]\n",
    "\n",
    "            if myItem == first_vertex:\n",
    "                indice = i + 1 \n",
    "                break\n",
    "\n",
    "            else:\n",
    "                list_vertex.append(myItem)\n",
    "\n",
    "        list_vertex.append(myItem)\n",
    "\n",
    "        ImageDraw.Draw(img).polygon(list_vertex, outline=1, fill=1)\n",
    "        mask = np.array(img)\n",
    "        \n",
    "    return mask"
   ]
  },
  {
   "cell_type": "code",
   "execution_count": 12,
   "id": "desperate-liberia",
   "metadata": {},
   "outputs": [],
   "source": [
    "def save_mask(markings, exame_number):\n",
    "    mask_list = []\n",
    "    \n",
    "    \n",
    "    for i in range(0, 30):\n",
    "        mask = create_masks(markings, i)\n",
    "        mask_list.append(mask)\n",
    "    \n",
    "    Path(f\"C:/Users/Visagio/Desktop/dt/marking-masks/\").mkdir(exist_ok=True)\n",
    "    hickle.dump(mask_list, \"C:/Users/Visagio/Desktop/dt/marking-masks/\" + 'mask_img' + str(exame_number) + '.hkl', \n",
    "                mode='w', compression='gzip')"
   ]
  },
  {
   "cell_type": "code",
   "execution_count": 13,
   "id": "graphic-cutting",
   "metadata": {},
   "outputs": [],
   "source": [
    "def read_create_mask():\n",
    "    for files in os.listdir(\"C:/Users/Visagio/Desktop/dt/Markings/\"):\n",
    "    \n",
    "        file = open(\"C:/Users/Visagio/Desktop/dt/Markings/\" + files, \"r\") \n",
    "        markings = {0:[], 1:[], 2:[], 3:[], 4:[], 5:[], 6:[], 7:[], 8:[], 9:[], 10:[], 11:[], 12:[], 13:[], 14:[],\n",
    "              15:[], 16:[], 17:[], 18:[], 19:[], 20:[], 21:[], 22:[], 23:[], 24:[], 25:[], 26:[], 27:[], 28:[], 29:[]}\n",
    "\n",
    "\n",
    "        for line in file: \n",
    "            if (\"Segmentation\" not in line):\n",
    "                if (\"V\" not in line):\n",
    "                    line = line.split(\" \")\n",
    "\n",
    "                    x = int(line[0])\n",
    "                    y = int(line[1])\n",
    "                    img_position = int(line[2])\n",
    "\n",
    "                    markings.setdefault(img_position, []).append((x, y))\n",
    "                    \n",
    "        exame_number = files.split(\".\")\n",
    "        file = close()\n",
    "        save_mask(markings, int(exame_number[0]))"
   ]
  },
  {
   "cell_type": "code",
   "execution_count": 16,
   "id": "reported-egypt",
   "metadata": {},
   "outputs": [],
   "source": [
    "read_create_mask()"
   ]
  }
 ],
 "metadata": {
  "kernelspec": {
   "display_name": "Python 3",
   "language": "python",
   "name": "python3"
  },
  "language_info": {
   "codemirror_mode": {
    "name": "ipython",
    "version": 3
   },
   "file_extension": ".py",
   "mimetype": "text/x-python",
   "name": "python",
   "nbconvert_exporter": "python",
   "pygments_lexer": "ipython3",
   "version": "3.8.2"
  }
 },
 "nbformat": 4,
 "nbformat_minor": 5
}
