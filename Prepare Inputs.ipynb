{
 "cells": [
  {
   "cell_type": "code",
   "execution_count": 2,
   "id": "congressional-collective",
   "metadata": {},
   "outputs": [],
   "source": [
    "import nibabel as nib\n",
    "import numpy as np\n",
    "from pathlib import Path\n",
    "import hickle\n",
    "import os"
   ]
  },
  {
   "cell_type": "code",
   "execution_count": 3,
   "id": "powered-quarter",
   "metadata": {},
   "outputs": [],
   "source": [
    "rootdir = \"C:/Users/Visagio/Desktop/dt/datasets/\"\n",
    "Path(\"C:/Users/Visagio/Desktop/dt/numpy\").mkdir(exist_ok=True)\n",
    "Path(\"C:/Users/Visagio/Desktop/dt/numpy/train\").mkdir(exist_ok=True)\n",
    "Path(\"C:/Users/Visagio/Desktop/dt/numpy/validation\").mkdir(exist_ok=True)\n",
    "Path(\"C:/Users/Visagio/Desktop/dt/numpy/test\").mkdir(exist_ok=True)\n",
    "Path(\"C:/Users/Visagio/Desktop/dt/numpy/label\").mkdir(exist_ok=True)\n",
    "\n",
    "_, dirs, _ = next(os.walk(rootdir))\n",
    "dirs.sort(key=float)"
   ]
  },
  {
   "cell_type": "code",
   "execution_count": 16,
   "id": "graduate-stretch",
   "metadata": {},
   "outputs": [],
   "source": [
    "def createLabelNumpyFiles(examNumber, index):\n",
    "    mask3D = hickle.load(f'C:/Users/Visagio/Desktop/dt/marking-masks/mask_img{examNumber}.hkl')\n",
    "    for sliceNumber in range(0, 30):\n",
    "        np.save(f'C:/Users/Visagio/Desktop/dt/numpy/label/{index}.npy', np.array(mask3D[sliceNumber]))\n",
    "        index += 1\n",
    "    return index"
   ]
  },
  {
   "cell_type": "code",
   "execution_count": 20,
   "id": "signed-factor",
   "metadata": {},
   "outputs": [],
   "source": [
    "def createInputNumpyFiles(examNumber, inputType, index):\n",
    "    img = nib.load(f'C:/Users/Visagio/Desktop/dt/histogram-matched/{examNumber}/matched.nii.gz')\n",
    "    imageData = img.get_fdata()\n",
    "    for sliceNumber in range(0, 30):\n",
    "        np.save(f'C:/Users/Visagio/Desktop/dt/numpy/{inputType}/{index}.npy', np.rot90(np.array(imageData[:, :, sliceNumber])))\n",
    "        index += 1\n",
    "    return index"
   ]
  },
  {
   "cell_type": "code",
   "execution_count": 21,
   "id": "dressed-shoulder",
   "metadata": {},
   "outputs": [],
   "source": [
    "index = 0\n",
    "index2 = 0\n",
    "index3 = 0\n",
    "index4 = 0\n",
    "for examNumber in range(0, 47):\n",
    "    index = createLabelNumpyFiles(examNumber, index)\n",
    "    if(examNumber <= 32):\n",
    "        index2 = createInputNumpyFiles(examNumber, \"train\", index2)\n",
    "    elif (examNumber <= 39):\n",
    "        index3 = createInputNumpyFiles(examNumber, \"validation\", index3)\n",
    "    else:\n",
    "        index4 = createInputNumpyFiles(examNumber, \"test\", index4)"
   ]
  }
 ],
 "metadata": {
  "kernelspec": {
   "display_name": "Python 3",
   "language": "python",
   "name": "python3"
  },
  "language_info": {
   "codemirror_mode": {
    "name": "ipython",
    "version": 3
   },
   "file_extension": ".py",
   "mimetype": "text/x-python",
   "name": "python",
   "nbconvert_exporter": "python",
   "pygments_lexer": "ipython3",
   "version": "3.8.2"
  }
 },
 "nbformat": 4,
 "nbformat_minor": 5
}
